{
 "cells": [
  {
   "cell_type": "code",
   "execution_count": 55,
   "metadata": {},
   "outputs": [],
   "source": [
    "def fibonaci():\n",
    "    try:\n",
    "        #f=[1,1];\n",
    "        \n",
    "        n = int(input(\"please enter the number of terms in fibonaci series : \"))\n",
    "        \n",
    "        f = list(map(int,input(\"Enter the numbers : \").split(\",\")))\n",
    "        \n",
    "        print(\"Initial fibonacci series : \",f)\n",
    "        \n",
    "        if(len(f) == 2):\n",
    "            \n",
    "            if (n>0) and (n>2):\n",
    "                \n",
    "                if (f[0]==1 and f[1] ==1): \n",
    "                    \n",
    "                    for i in range(2,n):\n",
    "                         \n",
    "                        f.append(f[i-1]+f[i-2])\n",
    "\n",
    "                    print(\"fibonacci series:\",f)\n",
    "                \n",
    "                else:\n",
    "                    \n",
    "                    for i in range(2,n):\n",
    "                         \n",
    "                        f.append(f[i-1]+f[i-2])\n",
    "\n",
    "                    print(\"Not a generic one as initials are not correct\")\n",
    "                    print(\"fibonacci series:\",f)\n",
    "\n",
    "            elif n<0:\n",
    "\n",
    "                print(\"can not evaluate fibonacci series for negative numbers\")\n",
    "\n",
    "            else:\n",
    "\n",
    "                print(\"please give a input more than 2 else it will print intial series : \",f)\n",
    "        \n",
    "        elif (len(f) > 2):\n",
    "            \n",
    "            print(\"length of given list is more than 2\")\n",
    "            \n",
    "        else:\n",
    "            \n",
    "            print(\"length of list is less than 1\")\n",
    "            \n",
    "    except Exception as e:\n",
    "        \n",
    "        print(\"error occured : \",e)"
   ]
  },
  {
   "cell_type": "code",
   "execution_count": 49,
   "metadata": {},
   "outputs": [
    {
     "name": "stdout",
     "output_type": "stream",
     "text": [
      "please enter the number of terms in fibonaci series : 10\n",
      "Enter the numbers : 1,1\n",
      "Initial fibonacci series :  [1, 1]\n",
      "fibonacci series: [1, 1, 2, 3, 5, 8, 13, 21, 34, 55]\n"
     ]
    }
   ],
   "source": [
    "fibonaci()"
   ]
  },
  {
   "cell_type": "code",
   "execution_count": 50,
   "metadata": {},
   "outputs": [
    {
     "name": "stdout",
     "output_type": "stream",
     "text": [
      "please enter the number of terms in fibonaci series : 20\n",
      "Enter the numbers : 1,1\n",
      "Initial fibonacci series :  [1, 1]\n",
      "fibonacci series: [1, 1, 2, 3, 5, 8, 13, 21, 34, 55, 89, 144, 233, 377, 610, 987, 1597, 2584, 4181, 6765]\n"
     ]
    }
   ],
   "source": [
    "fibonaci()"
   ]
  },
  {
   "cell_type": "code",
   "execution_count": 51,
   "metadata": {},
   "outputs": [
    {
     "name": "stdout",
     "output_type": "stream",
     "text": [
      "please enter the number of terms in fibonaci series : -2\n",
      "Enter the numbers : 1,1\n",
      "Initial fibonacci series :  [1, 1]\n",
      "can not evaluate fibonacci series for negative numbers\n"
     ]
    }
   ],
   "source": [
    "fibonaci()"
   ]
  },
  {
   "cell_type": "code",
   "execution_count": 56,
   "metadata": {},
   "outputs": [
    {
     "name": "stdout",
     "output_type": "stream",
     "text": [
      "please enter the number of terms in fibonaci series : 10\n",
      "Enter the numbers : 1\n",
      "Initial fibonacci series :  [1]\n",
      "length of list is less than 1\n"
     ]
    }
   ],
   "source": [
    "fibonaci()"
   ]
  },
  {
   "cell_type": "code",
   "execution_count": 57,
   "metadata": {},
   "outputs": [
    {
     "name": "stdout",
     "output_type": "stream",
     "text": [
      "please enter the number of terms in fibonaci series : 10\n",
      "Enter the numbers : 1,2\n",
      "Initial fibonacci series :  [1, 2]\n",
      "Not a generic one as initials are not correct\n",
      "fibonacci series: [1, 2, 3, 5, 8, 13, 21, 34, 55, 89]\n"
     ]
    }
   ],
   "source": [
    "fibonaci()"
   ]
  },
  {
   "cell_type": "code",
   "execution_count": 58,
   "metadata": {},
   "outputs": [
    {
     "name": "stdout",
     "output_type": "stream",
     "text": [
      "please enter the number of terms in fibonaci series : uih\n",
      "error occured :  invalid literal for int() with base 10: 'uih'\n"
     ]
    }
   ],
   "source": [
    "fibonaci()"
   ]
  },
  {
   "cell_type": "code",
   "execution_count": 59,
   "metadata": {},
   "outputs": [
    {
     "name": "stdout",
     "output_type": "stream",
     "text": [
      "please enter the number of terms in fibonaci series : 9\n",
      "Enter the numbers : uioi.jhiahg\n",
      "error occured :  invalid literal for int() with base 10: 'uioi.jhiahg'\n"
     ]
    }
   ],
   "source": [
    "fibonaci()"
   ]
  },
  {
   "cell_type": "code",
   "execution_count": null,
   "metadata": {},
   "outputs": [],
   "source": []
  }
 ],
 "metadata": {
  "kernelspec": {
   "display_name": "Python 3",
   "language": "python",
   "name": "python3"
  },
  "language_info": {
   "codemirror_mode": {
    "name": "ipython",
    "version": 3
   },
   "file_extension": ".py",
   "mimetype": "text/x-python",
   "name": "python",
   "nbconvert_exporter": "python",
   "pygments_lexer": "ipython3",
   "version": "3.8.5"
  }
 },
 "nbformat": 4,
 "nbformat_minor": 4
}
